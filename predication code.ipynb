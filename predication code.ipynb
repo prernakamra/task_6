{
 "cells": [
  {
   "cell_type": "code",
   "execution_count": 1,
   "id": "b4445d9e",
   "metadata": {},
   "outputs": [],
   "source": [
    "import pandas"
   ]
  },
  {
   "cell_type": "code",
   "execution_count": 2,
   "id": "9979add8",
   "metadata": {},
   "outputs": [],
   "source": [
    "#load the model\n",
    "from tensorflow .keras.models import load_model"
   ]
  },
  {
   "cell_type": "code",
   "execution_count": 3,
   "id": "eaa81a91",
   "metadata": {},
   "outputs": [],
   "source": [
    "model = load_model('myfirstmodel.h5')"
   ]
  },
  {
   "cell_type": "code",
   "execution_count": 4,
   "id": "7a1588b6",
   "metadata": {},
   "outputs": [
    {
     "data": {
      "text/plain": [
       "<tensorflow.python.keras.engine.sequential.Sequential at 0x1e36522afd0>"
      ]
     },
     "execution_count": 4,
     "metadata": {},
     "output_type": "execute_result"
    }
   ],
   "source": [
    "model"
   ]
  },
  {
   "cell_type": "code",
   "execution_count": 5,
   "id": "878fb26f",
   "metadata": {},
   "outputs": [],
   "source": [
    "from tensorflow.keras.preprocessing import image\n",
    "import matplotlib.pyplot as plt\n",
    "import numpy as np\n",
    "img1 = image.load_img('54.jpg', target_size=(64, 64)) \n",
    "img = image.img_to_array(img1)\n",
    "img = img/255\n",
    "# create a batch of size 1 [N,H,W,C]\n",
    "img = np.expand_dims(img, axis=0)\n"
   ]
  },
  {
   "cell_type": "code",
   "execution_count": 6,
   "id": "e8e607b2",
   "metadata": {},
   "outputs": [],
   "source": [
    "import os\n"
   ]
  },
  {
   "cell_type": "code",
   "execution_count": 7,
   "id": "ad1b1217",
   "metadata": {},
   "outputs": [
    {
     "name": "stdout",
     "output_type": "stream",
     "text": [
      "Please enter your password : yeowswystuqdwwfo\n",
      "Login success\n",
      "Email has been sent to  pkamra_mca20@thapar.edu\n",
      "In 9 seconds web.whatsapp.com will open and after 20 seconds message will be delivered\n"
     ]
    },
    {
     "data": {
      "image/png": "[encoded data removed]",
      "text/plain": [
       "<Figure size 432x288 with 1 Axes>"
      ]
     },
     "metadata": {
      "needs_background": "light"
     },
     "output_type": "display_data"
    }
   ],
   "source": [
    "\n",
    "prediction = model.predict(img, batch_size=None,steps=1) #gives all class prob.\n",
    "if(prediction[:,:]>0.5):\n",
    "    #code for sending email\n",
    "    import smtplib\n",
    "    sender_email = \"prernakamra47@gmail.com\"\n",
    "    rec_email = \"pkamra_mca20@thapar.edu\"\n",
    "    password = input(str(\"Please enter your password : \"))\n",
    "    message = \"Hey, this was sent using python\"\n",
    "\n",
    "    server = smtplib.SMTP('smtp.gmail.com', 587)\n",
    "    server.starttls()\n",
    "    server.login(sender_email, password)\n",
    "    print(\"Login success\")\n",
    "    server.sendmail(sender_email, rec_email, message)\n",
    "    print(\"Email has been sent to \", rec_email)\n",
    "    #code for sending whatsapp message\n",
    "    import pywhatkit\n",
    "    pywhatkit.sendwhatmsg('+919460644707','I am rajat',9,21)\n",
    "    \n",
    "else:\n",
    "    #code for run terraform code for creating aws ec2 and EBS volue\n",
    "    os.system(\"aws ec2 run-instances --image-id ami-0ad704c126371a549 --instance-type t2.micro --security-group-ids sg-d5182faf --key-name prernakamra\")\n",
    "    os.system(\"terraform init\")\n",
    "    os.system(\"terraform apply --auto-approve\")\n",
    "    \n",
    "\n",
    "plt.imshow(img1)\n",
    "plt.show()"
   ]
  },
  {
   "cell_type": "code",
   "execution_count": null,
   "id": "396cf761",
   "metadata": {},
   "outputs": [],
   "source": []
  },
  {
   "cell_type": "code",
   "execution_count": null,
   "id": "b8b5de0d",
   "metadata": {},
   "outputs": [],
   "source": []
  }
 ],
 "metadata": {
  "kernelspec": {
   "display_name": "Python 3",
   "language": "python",
   "name": "python3"
  },
  "language_info": {
   "codemirror_mode": {
    "name": "ipython",
    "version": 3
   },
   "file_extension": ".py",
   "mimetype": "text/x-python",
   "name": "python",
   "nbconvert_exporter": "python",
   "pygments_lexer": "ipython3",
   "version": "3.8.8"
  }
 },
 "nbformat": 4,
 "nbformat_minor": 5
}
