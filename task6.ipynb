{
 "cells": [
  {
   "cell_type": "code",
   "execution_count": null,
   "id": "69e33124",
   "metadata": {},
   "outputs": [],
   "source": [
    "#code for collecting the data set\n",
    "import cv2\n",
    "import numpy as np\n",
    "face_classifier = cv2.CascadeClassifier('haarcascade_frontalface_default.xml')"
   ]
  },
  {
   "cell_type": "code",
   "execution_count": null,
   "id": "c570685a",
   "metadata": {},
   "outputs": [],
   "source": [
    "#code for collecting images of person 1\n",
    "import cv2\n",
    "import numpy as np\n",
    "face_classifier = cv2.CascadeClassifier('haarcascade_frontalface_default.xml')\n",
    "def face_extractor(img):\n",
    "    gray = cv2.cvtColor(img,cv2.COLOR_BGR2GRAY)\n",
    "    faces = face_classifier.detectMultiScale(gray, 1.3, 5)\n",
    "    if faces is ():\n",
    "        return None\n",
    "    for (x,y,w,h) in faces:\n",
    "        crop_img = img[y:y+h, x:x+w]\n",
    "    return crop_img\n",
    "cap = cv2.VideoCapture(0)\n",
    "count = 0  \n",
    "while True:\n",
    "    ret, photo = cap.read()\n",
    "    if face_extractor(photo) is not None:\n",
    "        count += 1\n",
    "        face = cv2.resize(face_extractor(photo),(200,200))\n",
    "        face = cv2.cvtColor(face, cv2.COLOR_BGR2GRAY)\n",
    "\n",
    "        #save file in a directory\n",
    "        file_name_path = './myDataset/person1/'+ str(count) +'.jpg'\n",
    "        cv2.imwrite(file_name_path,face)\n",
    "\n",
    "        cv2.putText(face, str(count),(50,50), cv2.FONT_HERSHEY_COMPLEX, 1,(0,255,0),2)\n",
    "        cv2.imshow('crop face' , face)\n",
    "    else:\n",
    "        print(\"face not found\")\n",
    "        pass\n",
    "    \n",
    "    if cv2.waitKey(1) == 13 or count == 100:\n",
    "        break\n",
    "cap.release()\n",
    "cv2.destroyAllWindows()\n",
    "print(\"collecting sample completed\")"
   ]
  },
  {
   "cell_type": "code",
   "execution_count": null,
   "id": "6a721151",
   "metadata": {},
   "outputs": [],
   "source": [
    "#code for collecting images of person 2\n",
    "import cv2\n",
    "import numpy as np\n",
    "face_classifier = cv2.CascadeClassifier('haarcascade_frontalface_default.xml')\n",
    "def face_extractor(img):\n",
    "    gray = cv2.cvtColor(img,cv2.COLOR_BGR2GRAY)\n",
    "    faces = face_classifier.detectMultiScale(gray, 1.3, 5)\n",
    "    if faces is ():\n",
    "        return None\n",
    "    for (x,y,w,h) in faces:\n",
    "        crop_img = img[y:y+h, x:x+w]\n",
    "    return crop_img\n",
    "cap = cv2.VideoCapture(0)\n",
    "count = 0  \n",
    "while True:\n",
    "    ret, photo = cap.read()\n",
    "    if face_extractor(photo) is not None:\n",
    "        count += 1\n",
    "        face = cv2.resize(face_extractor(photo),(200,200))\n",
    "        face = cv2.cvtColor(face, cv2.COLOR_BGR2GRAY)\n",
    "\n",
    "        #save file in a directory\n",
    "        file_name_path = './myDataset/person2/'+ str(count) +'.jpg'\n",
    "        cv2.imwrite(file_name_path,face)\n",
    "\n",
    "        cv2.putText(face, str(count),(50,50), cv2.FONT_HERSHEY_COMPLEX, 1,(0,255,0),2)\n",
    "        cv2.imshow('crop face' , face)\n",
    "    else:\n",
    "        print(\"face not found\")\n",
    "        pass\n",
    "    \n",
    "    if cv2.waitKey(1) == 13 or count == 100:\n",
    "        break\n",
    "cap.release()\n",
    "cv2.destroyAllWindows()\n",
    "print(\"collecting sample completed\")"
   ]
  },
  {
   "cell_type": "code",
   "execution_count": 23,
   "id": "9e0d544e",
   "metadata": {},
   "outputs": [],
   "source": [
    "from tensorflow.keras.models import Sequential"
   ]
  },
  {
   "cell_type": "code",
   "execution_count": 24,
   "id": "7794b1b1",
   "metadata": {},
   "outputs": [],
   "source": [
    "model = Sequential()"
   ]
  },
  {
   "cell_type": "code",
   "execution_count": 25,
   "id": "3caed7ea",
   "metadata": {},
   "outputs": [
    {
     "data": {
      "text/plain": [
       "{'name': 'sequential_1', 'layers': []}"
      ]
     },
     "execution_count": 25,
     "metadata": {},
     "output_type": "execute_result"
    }
   ],
   "source": [
    "model.get_config()"
   ]
  },
  {
   "cell_type": "code",
   "execution_count": 26,
   "id": "e494c9cd",
   "metadata": {},
   "outputs": [],
   "source": [
    "from tensorflow.keras.layers import Convolution2D"
   ]
  },
  {
   "cell_type": "code",
   "execution_count": 27,
   "id": "67a62222",
   "metadata": {},
   "outputs": [],
   "source": [
    "model.add(Convolution2D(\n",
    "       filters=32,\n",
    "       kernel_size=(3,3),\n",
    "       input_shape=(64,64,3),\n",
    "       activation='relu'\n",
    "\n",
    "))"
   ]
  },
  {
   "cell_type": "code",
   "execution_count": 28,
   "id": "7a0d2726",
   "metadata": {},
   "outputs": [],
   "source": [
    "from tensorflow.keras.layers import MaxPooling2D"
   ]
  },
  {
   "cell_type": "code",
   "execution_count": 29,
   "id": "de3c2323",
   "metadata": {},
   "outputs": [],
   "source": [
    "model.add(\n",
    "MaxPooling2D(pool_size=(2,2))\n",
    ")"
   ]
  },
  {
   "cell_type": "code",
   "execution_count": 30,
   "id": "ff631fd2",
   "metadata": {},
   "outputs": [],
   "source": [
    "from tensorflow.keras.layers import Flatten\n",
    "model.add(\n",
    "Flatten()\n",
    ")"
   ]
  },
  {
   "cell_type": "code",
   "execution_count": 31,
   "id": "15b5bac1",
   "metadata": {},
   "outputs": [
    {
     "data": {
      "text/plain": [
       "{'name': 'sequential_1',\n",
       " 'layers': [{'class_name': 'InputLayer',\n",
       "   'config': {'batch_input_shape': (None, 64, 64, 3),\n",
       "    'dtype': 'float32',\n",
       "    'sparse': False,\n",
       "    'ragged': False,\n",
       "    'name': 'conv2d_1_input'}},\n",
       "  {'class_name': 'Conv2D',\n",
       "   'config': {'name': 'conv2d_1',\n",
       "    'trainable': True,\n",
       "    'batch_input_shape': (None, 64, 64, 3),\n",
       "    'dtype': 'float32',\n",
       "    'filters': 32,\n",
       "    'kernel_size': (3, 3),\n",
       "    'strides': (1, 1),\n",
       "    'padding': 'valid',\n",
       "    'data_format': 'channels_last',\n",
       "    'dilation_rate': (1, 1),\n",
       "    'groups': 1,\n",
       "    'activation': 'relu',\n",
       "    'use_bias': True,\n",
       "    'kernel_initializer': {'class_name': 'GlorotUniform',\n",
       "     'config': {'seed': None}},\n",
       "    'bias_initializer': {'class_name': 'Zeros', 'config': {}},\n",
       "    'kernel_regularizer': None,\n",
       "    'bias_regularizer': None,\n",
       "    'activity_regularizer': None,\n",
       "    'kernel_constraint': None,\n",
       "    'bias_constraint': None}},\n",
       "  {'class_name': 'MaxPooling2D',\n",
       "   'config': {'name': 'max_pooling2d_1',\n",
       "    'trainable': True,\n",
       "    'dtype': 'float32',\n",
       "    'pool_size': (2, 2),\n",
       "    'padding': 'valid',\n",
       "    'strides': (2, 2),\n",
       "    'data_format': 'channels_last'}},\n",
       "  {'class_name': 'Flatten',\n",
       "   'config': {'name': 'flatten_1',\n",
       "    'trainable': True,\n",
       "    'dtype': 'float32',\n",
       "    'data_format': 'channels_last'}}]}"
      ]
     },
     "execution_count": 31,
     "metadata": {},
     "output_type": "execute_result"
    }
   ],
   "source": [
    "model.get_config()"
   ]
  },
  {
   "cell_type": "code",
   "execution_count": 32,
   "id": "6aa8c02c",
   "metadata": {},
   "outputs": [],
   "source": [
    "from tensorflow.keras.layers import Dense"
   ]
  },
  {
   "cell_type": "code",
   "execution_count": 33,
   "id": "48b88937",
   "metadata": {},
   "outputs": [],
   "source": [
    "model.add(Dense(\n",
    "     units = 128, \n",
    "    activation = 'relu'\n",
    "))"
   ]
  },
  {
   "cell_type": "code",
   "execution_count": 34,
   "id": "1cb6ca64",
   "metadata": {},
   "outputs": [],
   "source": [
    "model.add ( Dense(units=1,  activation='sigmoid')  )"
   ]
  },
  {
   "cell_type": "code",
   "execution_count": 35,
   "id": "f1502a1e",
   "metadata": {},
   "outputs": [],
   "source": [
    "from tensorflow.keras.optimizers import Adam\n",
    "model.compile(optimizer='adam', loss='binary_crossentropy' , metrics=['accuracy'])"
   ]
  },
  {
   "cell_type": "code",
   "execution_count": 36,
   "id": "4cf0ddee",
   "metadata": {},
   "outputs": [],
   "source": [
    "from keras_preprocessing.image import ImageDataGenerator"
   ]
  },
  {
   "cell_type": "code",
   "execution_count": 37,
   "id": "d23cdf12",
   "metadata": {},
   "outputs": [
    {
     "name": "stdout",
     "output_type": "stream",
     "text": [
      "Found 160 images belonging to 2 classes.\n",
      "Found 40 images belonging to 2 classes.\n"
     ]
    }
   ],
   "source": [
    "train_datagen = ImageDataGenerator(\n",
    "        rescale=1./255,\n",
    "        shear_range=0.2,\n",
    "        zoom_range=0.2,\n",
    "        horizontal_flip=True)\n",
    "test_datagen = ImageDataGenerator(rescale=1./255)\n",
    "train_generator = train_datagen.flow_from_directory(\n",
    "        'myDataset/train_data/',\n",
    "        target_size=(64, 64),\n",
    "        batch_size=32,\n",
    "        class_mode='binary')\n",
    "validation_generator = test_datagen.flow_from_directory(\n",
    "        'myDataset/test_data/',\n",
    "        target_size=(64, 64),\n",
    "        batch_size=32,\n",
    "        class_mode='binary')\n"
   ]
  },
  {
   "cell_type": "code",
   "execution_count": 39,
   "id": "a8c6f35c",
   "metadata": {},
   "outputs": [
    {
     "name": "stdout",
     "output_type": "stream",
     "text": [
      "Epoch 1/2\n",
      "  5/100 [>.............................] - ETA: 14s - loss: 0.2666 - accuracy: 0.8938WARNING:tensorflow:Your input ran out of data; interrupting training. Make sure that your dataset or generator can generate at least `steps_per_epoch * epochs` batches (in this case, 200 batches). You may need to use the repeat() function when building your dataset.\n",
      "WARNING:tensorflow:Your input ran out of data; interrupting training. Make sure that your dataset or generator can generate at least `steps_per_epoch * epochs` batches (in this case, 800 batches). You may need to use the repeat() function when building your dataset.\n",
      "100/100 [==============================] - 1s 9ms/step - loss: 0.2666 - accuracy: 0.8938 - val_loss: 0.0617 - val_accuracy: 1.0000\n"
     ]
    },
    {
     "data": {
      "text/plain": [
       "<tensorflow.python.keras.callbacks.History at 0x12b3e92cee0>"
      ]
     },
     "execution_count": 39,
     "metadata": {},
     "output_type": "execute_result"
    }
   ],
   "source": [
    "model.fit(\n",
    "        train_generator,\n",
    "        steps_per_epoch=100,\n",
    "        epochs=2,\n",
    "        validation_data=validation_generator,\n",
    "        validation_steps=800)"
   ]
  },
  {
   "cell_type": "code",
   "execution_count": null,
   "id": "5821eb87",
   "metadata": {},
   "outputs": [],
   "source": []
  }
 ],
 "metadata": {
  "kernelspec": {
   "display_name": "Python 3",
   "language": "python",
   "name": "python3"
  },
  "language_info": {
   "codemirror_mode": {
    "name": "ipython",
    "version": 3
   },
   "file_extension": ".py",
   "mimetype": "text/x-python",
   "name": "python",
   "nbconvert_exporter": "python",
   "pygments_lexer": "ipython3",
   "version": "3.8.8"
  }
 },
 "nbformat": 4,
 "nbformat_minor": 5
}
